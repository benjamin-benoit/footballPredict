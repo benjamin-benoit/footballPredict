{
 "cells": [
  {
   "cell_type": "markdown",
   "metadata": {},
   "source": [
    "# House  Predict\n",
    "\n",
    "<ul>\n",
    "    <li>\n",
    "        <h3>Presentation</h3>\n",
    "        <ul>\n",
    "            <li>Problématique</li>\n",
    "            <li>Contexte</li>\n",
    "        </ul>\n",
    "    </li>\n",
    "      <li>\n",
    "        <h3>Collecte et exploration des données</h3>\n",
    "        <ul>\n",
    "            <li>Compréhension de la donnée</li>\n",
    "            <li>Data visualisation</li>\n",
    "            <li>Traitement / Encodage</li>\n",
    "        </ul>\n",
    "    </li>\n",
    "      <li>\n",
    "        <h3>Modélisation</h3>\n",
    "        <ul>\n",
    "            <li>Choix de l'algorithme</li>\n",
    "            <li>Validation et interprétation</li>\n",
    "        </ul>\n",
    "    </li>\n",
    "    <li>\n",
    "        <h3>Conclusion</h3>\n",
    "    </li>\n",
    "</ul>"
   ]
  },
  {
   "cell_type": "markdown",
   "metadata": {},
   "source": [
    "<h2>Presentation</h2>\n",
    " \n",
    "\n",
    "<h4>Problématique</h4>\n",
    "\n",
    "Peut-on savoir qui aura le prix de vente d'une maison  ?\n",
    "\n",
    "<h4>Contexte</h4>\n",
    " est une application qui nous permet de predire les prix de vente d'une maison\n",
    "Le sujet concerne la prediction des prix de vente du maison par ses caracteristiques, les données proviennent du site Kaggle.\n",
    "On dispose de plusieurs paramètres:\n",
    "- La surface;\n",
    "- La rue;\n",
    "- Le nombre d'etages;\n",
    "- Le nombre de pieces \n",
    "- ...\n",
    "\n",
    "Avec les données que nous avons, nous allons déterminer si noius pouvons répondre à notre problématique qui est de déterminer le nombre de buts qu'un équipe peut marquer.\n",
    "\n",
    "Source: https://www.kaggle.com/c/house-prices-advanced-regression-techniques"
   ]
  },
  {
   "cell_type": "markdown",
   "metadata": {},
   "source": [
    "<h2>Collecte et exploration des données</h2>"
   ]
  },
  {
   "cell_type": "code",
   "execution_count": 1,
   "metadata": {
    "scrolled": false
   },
   "outputs": [
    {
     "ename": "ModuleNotFoundError",
     "evalue": "No module named 'numpy'",
     "output_type": "error",
     "traceback": [
      "\u001b[0;31m---------------------------------------------------------------------\u001b[0m",
      "\u001b[0;31mModuleNotFoundError\u001b[0m                 Traceback (most recent call last)",
      "\u001b[0;32m<ipython-input-1-9342ad068c88>\u001b[0m in \u001b[0;36m<module>\u001b[0;34m\u001b[0m\n\u001b[0;32m----> 1\u001b[0;31m \u001b[0;32mimport\u001b[0m \u001b[0mnumpy\u001b[0m \u001b[0;32mas\u001b[0m \u001b[0mnp\u001b[0m\u001b[0;34m\u001b[0m\u001b[0;34m\u001b[0m\u001b[0m\n\u001b[0m\u001b[1;32m      2\u001b[0m \u001b[0;32mimport\u001b[0m \u001b[0mpandas\u001b[0m \u001b[0;32mas\u001b[0m \u001b[0mpd\u001b[0m\u001b[0;34m\u001b[0m\u001b[0;34m\u001b[0m\u001b[0m\n\u001b[1;32m      3\u001b[0m \u001b[0;32mimport\u001b[0m \u001b[0mmatplotlib\u001b[0m\u001b[0;34m.\u001b[0m\u001b[0mpyplot\u001b[0m \u001b[0;32mas\u001b[0m \u001b[0mplt\u001b[0m\u001b[0;34m\u001b[0m\u001b[0;34m\u001b[0m\u001b[0m\n\u001b[1;32m      4\u001b[0m \u001b[0;34m\u001b[0m\u001b[0m\n\u001b[1;32m      5\u001b[0m \u001b[0mdata\u001b[0m \u001b[0;34m=\u001b[0m \u001b[0mpd\u001b[0m\u001b[0;34m.\u001b[0m\u001b[0mread_csv\u001b[0m\u001b[0;34m(\u001b[0m\u001b[0;34m\"./AmesHousing.txt\"\u001b[0m\u001b[0;34m)\u001b[0m\u001b[0;34m\u001b[0m\u001b[0;34m\u001b[0m\u001b[0m\n",
      "\u001b[0;31mModuleNotFoundError\u001b[0m: No module named 'numpy'"
     ]
    }
   ],
   "source": [
    "import numpy as np\n",
    "import pandas as pd\n",
    "import matplotlib.pyplot as plt\n",
    "\n",
    "data = pd.read_csv(\"./AmesHousing.txt\")\n",
    "data.head()"
   ]
  },
  {
   "cell_type": "code",
   "execution_count": null,
   "metadata": {
    "scrolled": false
   },
   "outputs": [],
   "source": [
    "print('Remplacement des champs \\'NaN\\' par \\'0.0\\'')\n",
    "data[data.columns.tolist()] = data[data.columns.tolist()].replace(np.nan, 0)\n",
    "data.head()"
   ]
  },
  {
   "cell_type": "markdown",
   "metadata": {},
   "source": [
    "<h4>Compréhension de la donnée</h4>\n",
    "\n",
    "Nous avons sur 2 lignes les données sur un seul et même match, chacune affichant les statistiques de chacune des équipes s'affrontant.\n",
    "\n",
    "Nous avons comme données:\n",
    "- Le nombre de buts pour l'équipe;\n",
    "- Le pourcentage de possession;\n",
    "- Les nombres d'occasion...\n",
    "\n",
    "Colonnes:\n",
    "Date: Date du match\n",
    "Team: Equipe qui joue\n",
    "Opponent: Equipe adverse\n",
    "Goal Scored: Nombre de buts marqués\n",
    "Ball Possession: Pourcentage de possession\n",
    "Attempts: Nombre d'occasions\n",
    "On-Target: Tirs cadrés\n",
    "Off-Target: Tirs non cadrés\n",
    "Blocked: Attaques bloqués\n",
    "Corners: Nombre de corners\n",
    "Offsides: Hors jeux\n",
    "Free Kicks: Coups francs\n",
    "Saves: \n",
    "Pass Accuracy %Percentage of passes that reached the same team player as aimed\n",
    "PassesTotal number of passes by the team\n",
    "Distance Covered (Kms)Total distance covered by the team members in this game\n",
    "Fouls CommittedNumber of fouls committed by the team members\n",
    "Yellow CardNumber of Yellow warning received\n",
    "Yellow & RedNumber of Yellow & Red warning received\n",
    "RedNumber of Red cards received\n",
    "Man of the MatchDid this team member win Man of the Match?\n",
    "1st GoalWhen did the team score the 1st goal?\n",
    "RoundStage of the match\n",
    "PSOWas there a penalty shootout (PSO) in this match?\n",
    "Goals in PSONumber of goals scored in the Penalty shootout\n",
    "Own goalsNumber of own goals\n",
    "Own goal TimeWhen did the team score own goal?\n",
    "\n",
    "Dans le dataset"
   ]
  },
  {
   "cell_type": "code",
   "execution_count": null,
   "metadata": {
    "scrolled": false
   },
   "outputs": [],
   "source": [
    "# Create Columns Result and fill with NaN\n",
    "data['Result']=np.nan\n",
    "# NB: if Ressult == 0 then match is a mach null \n",
    "# if Result === 1 then team as win\n",
    "# if Result === -1 then team as loose \n",
    "for i in range(0,128,2):\n",
    "    a=data.iloc[i]['Goal Scored']\n",
    "    b=data.iloc[i+1]['Goal Scored']\n",
    "    if a>b:\n",
    "        data.iloc[i,-1]=1\n",
    "        data.iloc[i+1,-1]=-1\n",
    "    elif b>a:\n",
    "        data.iloc[i,-1]=-1\n",
    "        data.iloc[i+1,-1]=1\n",
    "    else:\n",
    "        data.iloc[i,-1]=0\n",
    "        data.iloc[i+1,-1]=0\n",
    "data.sort_values([\"Result\"],\n",
    "                 ascending=False) \n",
    "#data['Win'] = if(data['Goal Scored'])\n",
    "#data.groupby(['home_team', 'away_team']).size()"
   ]
  },
  {
   "cell_type": "markdown",
   "metadata": {},
   "source": [
    "<h4>Data visualisation</h4>\n",
    "<h5>Nb buts à domicile pour une équipe</h5>"
   ]
  },
  {
   "cell_type": "markdown",
   "metadata": {},
   "source": [
    "- Ajouter une colonne vistoire en comparant le nombre de buts de l'équipe contre l'adverse.\n",
    "- Encoder Tournament et Neutral."
   ]
  },
  {
   "cell_type": "markdown",
   "metadata": {},
   "source": [
    "# Première piste: la possession"
   ]
  },
  {
   "cell_type": "code",
   "execution_count": null,
   "metadata": {},
   "outputs": [],
   "source": [
    "data[['Team','Ball Possession %']].groupby(by= \"Team\").mean().sort_values(by=[\"Ball Possession %\"], ascending= False)"
   ]
  },
  {
   "cell_type": "markdown",
   "metadata": {},
   "source": [
    "# Seconde piste: Occasions"
   ]
  },
  {
   "cell_type": "code",
   "execution_count": null,
   "metadata": {},
   "outputs": [],
   "source": [
    "data[['Team','Ball Possession %']].groupby(by= \"Team\").mean().sort_values(by=[\"Ball Possession %\"], ascending= False)"
   ]
  },
  {
   "cell_type": "code",
   "execution_count": null,
   "metadata": {},
   "outputs": [],
   "source": []
  },
  {
   "cell_type": "code",
   "execution_count": null,
   "metadata": {},
   "outputs": [],
   "source": []
  },
  {
   "cell_type": "code",
   "execution_count": null,
   "metadata": {},
   "outputs": [],
   "source": []
  },
  {
   "cell_type": "code",
   "execution_count": null,
   "metadata": {},
   "outputs": [],
   "source": []
  },
  {
   "cell_type": "code",
   "execution_count": null,
   "metadata": {},
   "outputs": [],
   "source": []
  }
 ],
 "metadata": {
  "kernelspec": {
   "display_name": "Python 3",
   "language": "python",
   "name": "python3"
  },
  "language_info": {
   "codemirror_mode": {
    "name": "ipython",
    "version": 3
   },
   "file_extension": ".py",
   "mimetype": "text/x-python",
   "name": "python",
   "nbconvert_exporter": "python",
   "pygments_lexer": "ipython3",
   "version": "3.7.6"
  }
 },
 "nbformat": 4,
 "nbformat_minor": 2
}
