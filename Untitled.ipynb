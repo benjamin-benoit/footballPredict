{
 "cells": [
  {
   "cell_type": "markdown",
   "metadata": {},
   "source": [
    "# Football Predict\n",
    "\n",
    "<ul>\n",
    "    <li>\n",
    "        <h3>Presentation</h3>\n",
    "        <ul>\n",
    "            <li>Problématique</li>\n",
    "            <li>Contexte</li>\n",
    "        </ul>\n",
    "    </li>\n",
    "      <li>\n",
    "        <h3>Collecte et exploration des données</h3>\n",
    "        <ul>\n",
    "            <li>Compréhension de la donnée</li>\n",
    "            <li>Data visualisation</li>\n",
    "            <li>Traitement / Encodage</li>\n",
    "        </ul>\n",
    "    </li>\n",
    "      <li>\n",
    "        <h3>Modélisation</h3>\n",
    "        <ul>\n",
    "            <li>Choix de l'algorithme</li>\n",
    "            <li>Validation et interprétation</li>\n",
    "        </ul>\n",
    "    </li>\n",
    "    <li>\n",
    "        <h3>Conclusion</h3>\n",
    "    </li>\n",
    "</ul>"
   ]
  },
  {
   "cell_type": "markdown",
   "metadata": {},
   "source": [
    "<h2>Presentation</h2>\n",
    "\n",
    "<h4>Problématique</h4>\n",
    "Peut-on prévoir les résultats de football grâce aux anciens résultats ?\n",
    "\n",
    "<h4>Contexte</h4>\n",
    "Le sujet concerne les résultats matchs internationaux de football de 1872 à 2019."
   ]
  },
  {
   "cell_type": "markdown",
   "metadata": {},
   "source": [
    "<h2>Collecte et exploration des données</h2>\n",
    "\n",
    "<h4>Compréhension de la donnée</h4>\n",
    "\n",
    "<h4>Data visualisation</h4>\n",
    "\n",
    "<h4>Traitement / Encodage</h4>"
   ]
  },
  {
   "cell_type": "code",
   "execution_count": null,
   "metadata": {},
   "outputs": [],
   "source": [
    "import numpy as np\n",
    "import pandas as pd\n",
    "\n",
    "data = pd.read_csv(\"./results.csv\")\n",
    "data.head()"
   ]
  },
  {
   "cell_type": "code",
   "execution_count": null,
   "metadata": {},
   "outputs": [],
   "source": []
  }
 ],
 "metadata": {
  "kernelspec": {
   "display_name": "Python 2",
   "language": "python",
   "name": "python2"
  },
  "language_info": {
   "codemirror_mode": {
    "name": "ipython",
    "version": 2
   },
   "file_extension": ".py",
   "mimetype": "text/x-python",
   "name": "python",
   "nbconvert_exporter": "python",
   "pygments_lexer": "ipython2",
   "version": "2.7.17"
  }
 },
 "nbformat": 4,
 "nbformat_minor": 2
}
